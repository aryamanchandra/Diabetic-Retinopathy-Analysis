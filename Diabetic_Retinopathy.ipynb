{
  "nbformat": 4,
  "nbformat_minor": 0,
  "metadata": {
    "colab": {
      "provenance": [],
      "gpuType": "T4",
      "collapsed_sections": [
        "zpqxxiBROT8a",
        "DTJNWS0fUVLO"
      ],
      "authorship_tag": "ABX9TyOaLA0sQMwZq3BAn1V4QENa"
    },
    "kernelspec": {
      "name": "python3",
      "display_name": "Python 3"
    },
    "language_info": {
      "name": "python"
    },
    "accelerator": "GPU"
  },
  "cells": [
    {
      "cell_type": "code",
      "execution_count": 30,
      "metadata": {
        "id": "xOjRqS6nr1n5"
      },
      "outputs": [],
      "source": [
        "import numpy as np\n",
        "import pandas as pd\n",
        "import tensorflow as tf\n",
        "import os\n",
        "from sklearn.model_selection import train_test_split\n",
        "from tensorflow.keras.utils import to_categorical\n",
        "from PIL import Image\n",
        "from tensorflow.keras.layers import Conv2D, Dense, MaxPooling2D, Input, Flatten, Layer, GlobalAveragePooling2D\n",
        "from tensorflow.keras.models import Model\n",
        "from tensorflow.keras.applications import ResNet50"
      ]
    },
    {
      "cell_type": "code",
      "source": [
        "!mkdir ~/.kaggle"
      ],
      "metadata": {
        "colab": {
          "base_uri": "https://localhost:8080/"
        },
        "id": "TBrnPsHmNzck",
        "outputId": "49395e2c-de9c-4467-f68a-c905b6b3be9c"
      },
      "execution_count": 3,
      "outputs": [
        {
          "output_type": "stream",
          "name": "stdout",
          "text": [
            "mkdir: cannot create directory ‘/root/.kaggle’: File exists\n"
          ]
        }
      ]
    },
    {
      "cell_type": "code",
      "source": [
        "!cp kaggle.json ~/.kaggle/"
      ],
      "metadata": {
        "id": "sbK1auZ5N587"
      },
      "execution_count": 4,
      "outputs": []
    },
    {
      "cell_type": "code",
      "source": [
        "! kaggle datasets download amanneo/diabetic-retinopathy-resized-arranged"
      ],
      "metadata": {
        "colab": {
          "base_uri": "https://localhost:8080/"
        },
        "id": "iiP48-nPu7MH",
        "outputId": "aca3ec25-ea79-46b1-e2e4-180f640c8534"
      },
      "execution_count": 5,
      "outputs": [
        {
          "output_type": "stream",
          "name": "stdout",
          "text": [
            "Warning: Your Kaggle API key is readable by other users on this system! To fix this, you can run 'chmod 600 /root/.kaggle/kaggle.json'\n",
            "Downloading diabetic-retinopathy-resized-arranged.zip to /content\n",
            " 99% 1.19G/1.21G [00:11<00:00, 179MB/s]\n",
            "100% 1.21G/1.21G [00:11<00:00, 110MB/s]\n"
          ]
        }
      ]
    },
    {
      "cell_type": "code",
      "source": [
        "! unzip diabetic-retinopathy-resized-arranged.zip"
      ],
      "metadata": {
        "id": "vsS_B_ejvh10"
      },
      "execution_count": null,
      "outputs": []
    },
    {
      "cell_type": "markdown",
      "source": [
        "###Manual Preprocessing"
      ],
      "metadata": {
        "id": "zpqxxiBROT8a"
      }
    },
    {
      "cell_type": "code",
      "source": [
        "def preprocess(file):\n",
        "    image = Image.open(file)\n",
        "    image = image.resize((100,100))\n",
        "    image = np.array(image)\n",
        "    image = image/255\n",
        "    return image"
      ],
      "metadata": {
        "id": "-yTy1_4Zr5Gn"
      },
      "execution_count": null,
      "outputs": []
    },
    {
      "cell_type": "code",
      "source": [
        "path = \"data/\"\n",
        "class_names = os.listdir(path)\n",
        "\n",
        "image_dataset = []\n",
        "label_dataset = []\n",
        "\n",
        "\n",
        "for classname in class_names:\n",
        "    for image in os.listdir(os.path.join(path,classname)):\n",
        "        if image.endswith('.jpeg'):\n",
        "            image = preprocess(os.path.join(path, classname, image))\n",
        "            image_dataset.append(image)\n",
        "            label_dataset.append(class_names.index(classname))"
      ],
      "metadata": {
        "id": "jZg88asKr6oQ"
      },
      "execution_count": null,
      "outputs": []
    },
    {
      "cell_type": "markdown",
      "source": [
        "### Tensorflow Preprocessing"
      ],
      "metadata": {
        "id": "40eeYlDXOdyI"
      }
    },
    {
      "cell_type": "code",
      "source": [
        "image_dataset = \"data\"\n",
        "# train_images, test_images = train_test_split(image_dataset, test_size=0.3, random_state=42)\n",
        "# train_labels = to_categorical(train_labels, 5)\n",
        "# test_labels = to_categorical(test_labels, 5)"
      ],
      "metadata": {
        "id": "73TsDLXlr8Lu"
      },
      "execution_count": null,
      "outputs": []
    },
    {
      "cell_type": "code",
      "source": [
        "from tensorflow.keras.preprocessing.image import ImageDataGenerator\n",
        "image_preprocess = ImageDataGenerator()\n",
        "test_preprocess = ImageDataGenerator()"
      ],
      "metadata": {
        "id": "BmIRI2USOnRZ"
      },
      "execution_count": 8,
      "outputs": []
    },
    {
      "cell_type": "code",
      "source": [
        "train_generator = image_preprocess.flow_from_directory(\"data\",\n",
        "                                                     target_size=(100, 100),\n",
        "                                                     batch_size=200,\n",
        "                                                     class_mode='categorical')"
      ],
      "metadata": {
        "colab": {
          "base_uri": "https://localhost:8080/"
        },
        "id": "D4ti5y36OpHL",
        "outputId": "566d7025-5b98-4469-aaf0-af3765eef212"
      },
      "execution_count": 21,
      "outputs": [
        {
          "output_type": "stream",
          "name": "stdout",
          "text": [
            "Found 35126 images belonging to 5 classes.\n"
          ]
        }
      ]
    },
    {
      "cell_type": "markdown",
      "source": [
        "###Old Model"
      ],
      "metadata": {
        "id": "DTJNWS0fUVLO"
      }
    },
    {
      "cell_type": "code",
      "source": [
        "def layer_architecture():\n",
        "    input_layer = Input(shape=(100, 100, 3))\n",
        "    conv_layer1 = Conv2D(64, (10, 10), activation=\"relu\")(input_layer)\n",
        "    maxpool_layer1 = MaxPooling2D((2, 2), padding=\"same\")(conv_layer1)\n",
        "    conv_layer2 = Conv2D(128, (7, 7), activation=\"relu\")(maxpool_layer1)\n",
        "    maxpool_layer2 = MaxPooling2D((2, 2), padding=\"same\")(conv_layer2)\n",
        "    conv_layer3 = Conv2D(128, (4, 4), activation=\"relu\")(maxpool_layer2)\n",
        "    maxpool_layer3 = MaxPooling2D((2, 2), padding=\"same\")(conv_layer3)\n",
        "    conv_layer4 = Conv2D(256, (4, 4), activation=\"relu\")(maxpool_layer3)\n",
        "    flatten_layer = Flatten()(conv_layer4)\n",
        "    dense_layer = Dense(5, activation=\"softmax\")(flatten_layer)\n",
        "    return Model(inputs=input_layer, outputs=dense_layer, name=\"feature_vector\")"
      ],
      "metadata": {
        "id": "H4LRKHLer-n-"
      },
      "execution_count": null,
      "outputs": []
    },
    {
      "cell_type": "code",
      "source": [
        "cnn_model = layer_architecture()"
      ],
      "metadata": {
        "id": "D-Q9Vd4br_7h"
      },
      "execution_count": null,
      "outputs": []
    },
    {
      "cell_type": "code",
      "source": [
        "categorical_crossentropy = tf.losses.CategoricalCrossentropy()\n",
        "optimizer = tf.keras.optimizers.Adam(1e-4)"
      ],
      "metadata": {
        "id": "tTt0uQ9nsBeu"
      },
      "execution_count": null,
      "outputs": []
    },
    {
      "cell_type": "code",
      "source": [
        "cnn_model.compile(loss=\"categorical_crossentropy\",optimizer=\"adam\",metrics=[\"accuracy\"])"
      ],
      "metadata": {
        "id": "VIKu0V5NsDmH"
      },
      "execution_count": null,
      "outputs": []
    },
    {
      "cell_type": "code",
      "source": [
        "cnn_model.fit(\n",
        "    train_images, train_labels,\n",
        "    epochs=20,\n",
        "    batch_size=256,\n",
        "    validation_data=(test_images, test_labels)\n",
        ")"
      ],
      "metadata": {
        "id": "QYOxsNZFsE4B"
      },
      "execution_count": null,
      "outputs": []
    },
    {
      "cell_type": "markdown",
      "source": [
        "###New Model"
      ],
      "metadata": {
        "id": "iYB0vFIBUbHs"
      }
    },
    {
      "cell_type": "code",
      "source": [
        "from tensorflow.keras.applications.resnet50 import preprocess_input, decode_predictions"
      ],
      "metadata": {
        "id": "13PLpkXRU6mC"
      },
      "execution_count": 11,
      "outputs": []
    },
    {
      "cell_type": "code",
      "source": [
        "base_model = ResNet50(weights='imagenet', include_top=False)"
      ],
      "metadata": {
        "colab": {
          "base_uri": "https://localhost:8080/"
        },
        "id": "rnfkaji5UenJ",
        "outputId": "0a83c377-b82f-47e9-d013-6ea12026a833"
      },
      "execution_count": 13,
      "outputs": [
        {
          "output_type": "stream",
          "name": "stdout",
          "text": [
            "Downloading data from https://storage.googleapis.com/tensorflow/keras-applications/resnet/resnet50_weights_tf_dim_ordering_tf_kernels_notop.h5\n",
            "94765736/94765736 [==============================] - 1s 0us/step\n"
          ]
        }
      ]
    },
    {
      "cell_type": "code",
      "source": [
        "x = base_model.output\n",
        "x = GlobalAveragePooling2D()(x)\n",
        "x = Dense(256, activation='relu')(x)\n",
        "predictions = Dense(5, activation='softmax')(x)"
      ],
      "metadata": {
        "id": "GtYGdU4_Ung-"
      },
      "execution_count": 16,
      "outputs": []
    },
    {
      "cell_type": "code",
      "source": [
        "model = Model(inputs=base_model.input, outputs=predictions)"
      ],
      "metadata": {
        "id": "ioCMuMZbVZoY"
      },
      "execution_count": 17,
      "outputs": []
    },
    {
      "cell_type": "code",
      "source": [
        "model.compile(optimizer=tf.keras.optimizers.Adam(lr=0.001), loss='categorical_crossentropy', metrics=['accuracy'])"
      ],
      "metadata": {
        "colab": {
          "base_uri": "https://localhost:8080/"
        },
        "id": "2JP7elGmVlnV",
        "outputId": "e2c06eb0-c70d-4c57-fa09-e67722aba03d"
      },
      "execution_count": 19,
      "outputs": [
        {
          "output_type": "stream",
          "name": "stderr",
          "text": [
            "WARNING:absl:`lr` is deprecated in Keras optimizer, please use `learning_rate` or use the legacy optimizer, e.g.,tf.keras.optimizers.legacy.Adam.\n"
          ]
        }
      ]
    },
    {
      "cell_type": "code",
      "source": [
        "optimiser = tf.keras.optimizers.Adam(lr=0.001)"
      ],
      "metadata": {
        "colab": {
          "base_uri": "https://localhost:8080/"
        },
        "id": "PtWQTfFlaQhr",
        "outputId": "5fc2cf41-bad1-4cd7-91c7-1b6c5abbf6c6"
      },
      "execution_count": 26,
      "outputs": [
        {
          "output_type": "stream",
          "name": "stderr",
          "text": [
            "WARNING:absl:`lr` is deprecated in Keras optimizer, please use `learning_rate` or use the legacy optimizer, e.g.,tf.keras.optimizers.legacy.Adam.\n"
          ]
        }
      ]
    },
    {
      "cell_type": "code",
      "source": [
        "checkpoint_dir = './training_checkpoints'\n",
        "os.makedirs(checkpoint_dir, exist_ok=True)\n",
        "checkpoint_prefix = os.path.join(checkpoint_dir, 'ckpt')\n",
        "checkpoint = tf.train.Checkpoint(opt=optimiser, model=model)\n",
        "checkpoint_callback = tf.keras.callbacks.ModelCheckpoint(\n",
        "    filepath=checkpoint_prefix,\n",
        "    save_weights_only=True,\n",
        "    save_best_only=True,\n",
        "    monitor='accuracy',\n",
        "    mode='min',\n",
        "    verbose=1\n",
        ")"
      ],
      "metadata": {
        "id": "MEZyxmQ3aMMK"
      },
      "execution_count": 27,
      "outputs": []
    },
    {
      "cell_type": "code",
      "source": [
        "epochs = 20\n",
        "steps_per_epoch = train_generator.n // train_generator.batch_size\n",
        "\n",
        "model.fit(\n",
        "    train_generator,\n",
        "    steps_per_epoch=steps_per_epoch,\n",
        "    epochs=epochs,\n",
        "    verbose=1,\n",
        "    callbacks=[checkpoint_callback]\n",
        ")"
      ],
      "metadata": {
        "colab": {
          "base_uri": "https://localhost:8080/"
        },
        "id": "e3jlCwn4VrWp",
        "outputId": "a1ffb5eb-5fc4-4693-dcf6-b4b4e90a363c"
      },
      "execution_count": 29,
      "outputs": [
        {
          "output_type": "stream",
          "name": "stdout",
          "text": [
            "Epoch 1/20\n",
            "175/175 [==============================] - ETA: 0s - loss: 0.6742 - accuracy: 0.7694\n",
            "Epoch 1: accuracy improved from inf to 0.76937, saving model to ./training_checkpoints/ckpt\n",
            "175/175 [==============================] - 136s 773ms/step - loss: 0.6742 - accuracy: 0.7694\n",
            "Epoch 2/20\n",
            "175/175 [==============================] - ETA: 0s - loss: 0.6434 - accuracy: 0.7758\n",
            "Epoch 2: accuracy did not improve from 0.76937\n",
            "175/175 [==============================] - 126s 716ms/step - loss: 0.6434 - accuracy: 0.7758\n",
            "Epoch 3/20\n",
            "175/175 [==============================] - ETA: 0s - loss: 0.6089 - accuracy: 0.7874\n",
            "Epoch 3: accuracy did not improve from 0.76937\n",
            "175/175 [==============================] - 131s 746ms/step - loss: 0.6089 - accuracy: 0.7874\n",
            "Epoch 4/20\n",
            "175/175 [==============================] - ETA: 0s - loss: 0.5655 - accuracy: 0.8025\n",
            "Epoch 4: accuracy did not improve from 0.76937\n",
            "175/175 [==============================] - 128s 726ms/step - loss: 0.5655 - accuracy: 0.8025\n",
            "Epoch 5/20\n",
            "175/175 [==============================] - ETA: 0s - loss: 0.5243 - accuracy: 0.8172\n",
            "Epoch 5: accuracy did not improve from 0.76937\n",
            "175/175 [==============================] - 127s 725ms/step - loss: 0.5243 - accuracy: 0.8172\n",
            "Epoch 6/20\n",
            "175/175 [==============================] - ETA: 0s - loss: 0.4709 - accuracy: 0.8301\n",
            "Epoch 6: accuracy did not improve from 0.76937\n",
            "175/175 [==============================] - 122s 696ms/step - loss: 0.4709 - accuracy: 0.8301\n",
            "Epoch 7/20\n",
            "175/175 [==============================] - ETA: 0s - loss: 0.4094 - accuracy: 0.8538\n",
            "Epoch 7: accuracy did not improve from 0.76937\n",
            "175/175 [==============================] - 125s 715ms/step - loss: 0.4094 - accuracy: 0.8538\n",
            "Epoch 8/20\n",
            "175/175 [==============================] - ETA: 0s - loss: 0.3415 - accuracy: 0.8749\n",
            "Epoch 8: accuracy did not improve from 0.76937\n",
            "175/175 [==============================] - 125s 713ms/step - loss: 0.3415 - accuracy: 0.8749\n",
            "Epoch 9/20\n",
            "175/175 [==============================] - ETA: 0s - loss: 0.2848 - accuracy: 0.8925\n",
            "Epoch 9: accuracy did not improve from 0.76937\n",
            "175/175 [==============================] - 126s 716ms/step - loss: 0.2848 - accuracy: 0.8925\n",
            "Epoch 10/20\n",
            "175/175 [==============================] - ETA: 0s - loss: 0.2236 - accuracy: 0.9174\n",
            "Epoch 10: accuracy did not improve from 0.76937\n",
            "175/175 [==============================] - 123s 698ms/step - loss: 0.2236 - accuracy: 0.9174\n",
            "Epoch 11/20\n",
            "175/175 [==============================] - ETA: 0s - loss: 0.1770 - accuracy: 0.9353\n",
            "Epoch 11: accuracy did not improve from 0.76937\n",
            "175/175 [==============================] - 128s 729ms/step - loss: 0.1770 - accuracy: 0.9353\n",
            "Epoch 12/20\n",
            "175/175 [==============================] - ETA: 0s - loss: 0.1380 - accuracy: 0.9496\n",
            "Epoch 12: accuracy did not improve from 0.76937\n",
            "175/175 [==============================] - 125s 714ms/step - loss: 0.1380 - accuracy: 0.9496\n",
            "Epoch 13/20\n",
            "175/175 [==============================] - ETA: 0s - loss: 0.1150 - accuracy: 0.9569\n",
            "Epoch 13: accuracy did not improve from 0.76937\n",
            "175/175 [==============================] - 125s 711ms/step - loss: 0.1150 - accuracy: 0.9569\n",
            "Epoch 14/20\n",
            "175/175 [==============================] - ETA: 0s - loss: 0.0904 - accuracy: 0.9683\n",
            "Epoch 14: accuracy did not improve from 0.76937\n",
            "175/175 [==============================] - 126s 715ms/step - loss: 0.0904 - accuracy: 0.9683\n",
            "Epoch 15/20\n",
            "175/175 [==============================] - ETA: 0s - loss: 0.0739 - accuracy: 0.9732\n",
            "Epoch 15: accuracy did not improve from 0.76937\n",
            "175/175 [==============================] - 128s 727ms/step - loss: 0.0739 - accuracy: 0.9732\n",
            "Epoch 16/20\n",
            "175/175 [==============================] - ETA: 0s - loss: 0.0749 - accuracy: 0.9733\n",
            "Epoch 16: accuracy did not improve from 0.76937\n",
            "175/175 [==============================] - 124s 706ms/step - loss: 0.0749 - accuracy: 0.9733\n",
            "Epoch 17/20\n",
            "175/175 [==============================] - ETA: 0s - loss: 0.0623 - accuracy: 0.9777\n",
            "Epoch 17: accuracy did not improve from 0.76937\n",
            "175/175 [==============================] - 123s 702ms/step - loss: 0.0623 - accuracy: 0.9777\n",
            "Epoch 18/20\n",
            "175/175 [==============================] - ETA: 0s - loss: 0.0594 - accuracy: 0.9786\n",
            "Epoch 18: accuracy did not improve from 0.76937\n",
            "175/175 [==============================] - 124s 707ms/step - loss: 0.0594 - accuracy: 0.9786\n",
            "Epoch 19/20\n",
            "175/175 [==============================] - ETA: 0s - loss: 0.0539 - accuracy: 0.9812\n",
            "Epoch 19: accuracy did not improve from 0.76937\n",
            "175/175 [==============================] - 128s 730ms/step - loss: 0.0539 - accuracy: 0.9812\n",
            "Epoch 20/20\n",
            "175/175 [==============================] - ETA: 0s - loss: 0.0568 - accuracy: 0.9799\n",
            "Epoch 20: accuracy did not improve from 0.76937\n",
            "175/175 [==============================] - 127s 725ms/step - loss: 0.0568 - accuracy: 0.9799\n"
          ]
        },
        {
          "output_type": "execute_result",
          "data": {
            "text/plain": [
              "<keras.callbacks.History at 0x7dc0409a2b00>"
            ]
          },
          "metadata": {},
          "execution_count": 29
        }
      ]
    },
    {
      "cell_type": "code",
      "source": [
        "import numpy as np\n",
        "from tensorflow.keras.preprocessing.image import img_to_array, load_img\n",
        "\n",
        "test_image=load_img(\"d3.jpg\",target_size=(100, 100))\n",
        "test_image=img_to_array(test_image)\n",
        "test_image=np.expand_dims(test_image,axis=0)\n",
        "result = model.predict(test_image, verbose=0)\n",
        "\n",
        "predict={0:\"No DR\",1:\"Mild\",2:\"Moderate\",3:\"Severe\",4:\"Proliferative DR\"}\n",
        "\n",
        "print(predict[np.argmax(result)])"
      ],
      "metadata": {
        "colab": {
          "base_uri": "https://localhost:8080/"
        },
        "id": "DLfRFWdMhrWL",
        "outputId": "12005648-22a1-490d-d77a-aa9b6a7e2f4e"
      },
      "execution_count": 42,
      "outputs": [
        {
          "output_type": "stream",
          "name": "stdout",
          "text": [
            "Moderate\n"
          ]
        }
      ]
    },
    {
      "cell_type": "code",
      "source": [
        "metric1 = Recall()\n",
        "metric1.update_state(y_true,y_pred)\n",
        "metric1.result().numpy()"
      ],
      "metadata": {
        "id": "UjNLFQ5VsGj_"
      },
      "execution_count": null,
      "outputs": []
    },
    {
      "cell_type": "code",
      "source": [
        "metric2 = Precision()\n",
        "metric2.update_state(y_true,y_pred)\n",
        "metric2.result().numpy()"
      ],
      "metadata": {
        "id": "t2FhJRoQsID_"
      },
      "execution_count": null,
      "outputs": []
    }
  ]
}